{
  "cells": [
    {
      "cell_type": "markdown",
      "metadata": {
        "id": "view-in-github",
        "colab_type": "text"
      },
      "source": [
        "<a href=\"https://colab.research.google.com/github/ChakirAmal/FrenchChatbot/blob/main/EDA_3D_Object_Detection_Challenge.ipynb\" target=\"_parent\"><img src=\"https://colab.research.google.com/assets/colab-badge.svg\" alt=\"Open In Colab\"/></a>"
      ]
    },
    {
      "metadata": {
        "id": "pKj2FOPnBPro"
      },
      "cell_type": "markdown",
      "source": [
        "This is certainly an interesting and challenging competition.\n",
        "![gif](https://raw.githubusercontent.com/lyft/nuscenes-devkit/master/notebooks/media/001.gif)\n",
        "Lets take a look at the 85GB unique dataset!\n",
        "\n",
        "\n",
        "\n",
        "**Disclaimer: I do not know anything about 3D object detection nor about Autonomous Vehicles.\n",
        "The notebook is provided \"as is\", without warranty of any kind... :)**"
      ]
    },
    {
      "metadata": {
        "_uuid": "8f2839f25d086af736a60e9eeb907d3b93b6e0e5",
        "_cell_guid": "b1076dfc-b9ad-4769-8c92-a6c4dae69d19",
        "trusted": true,
        "_kg_hide-input": true,
        "id": "jF_3hoxoBPrq"
      },
      "cell_type": "code",
      "source": [
        "%matplotlib inline\n",
        "import os\n",
        "import pandas as pd\n",
        "import datetime as dt\n",
        "import numpy as np\n",
        "from IPython.core.interactiveshell import InteractiveShell\n",
        "InteractiveShell.ast_node_interactivity = \"all\"\n",
        "import datetime as dt\n",
        "from tqdm import tqdm\n",
        "import matplotlib.pyplot as plt\n",
        "import seaborn as sns\n",
        "import plotly.offline as py\n",
        "py.init_notebook_mode(connected=True)\n",
        "import plotly.graph_objs as go\n",
        "import plotly.figure_factory as ff\n",
        "import warnings\n"
      ],
      "execution_count": null,
      "outputs": []
    },
    {
      "metadata": {
        "_kg_hide-input": true,
        "trusted": true,
        "id": "PBz22o-lBPrq"
      },
      "cell_type": "code",
      "source": [
        "plt.rcParams['figure.figsize'] = [16, 10]\n",
        "plt.rcParams['font.size'] = 14\n",
        "warnings.filterwarnings('ignore')\n",
        "pd.options.display.max_columns = 99\n",
        "sns.set_palette(sns.color_palette('tab20', 20))"
      ],
      "execution_count": null,
      "outputs": []
    },
    {
      "metadata": {
        "_uuid": "d629ff2d2480ee46fbb7e2d37f6b5fab8052498a",
        "_cell_guid": "79c7e3d0-c299-4dcb-8224-4455121ee9b0",
        "trusted": true,
        "id": "QpxKT6luBPrr"
      },
      "cell_type": "code",
      "source": [
        "start = dt.datetime.now()"
      ],
      "execution_count": null,
      "outputs": []
    },
    {
      "metadata": {
        "trusted": true,
        "id": "YIIfJdHzBPrr"
      },
      "cell_type": "code",
      "source": [
        "base = '/kaggle/input/3d-object-detection-for-autonomous-vehicles/'\n",
        "dirs = os.listdir(base)\n",
        "print(dirs)"
      ],
      "execution_count": null,
      "outputs": []
    },
    {
      "metadata": {
        "id": "7DeSXdmvBPrr"
      },
      "cell_type": "markdown",
      "source": [
        "# Unique ground truth and submission format\n",
        "We are required to optimize a custom performance metric, the mean average precision[](http://) at different intersection over union (IoU) thresholds."
      ]
    },
    {
      "metadata": {
        "trusted": true,
        "id": "S_DccYB9BPrr"
      },
      "cell_type": "code",
      "source": [
        "train = pd.read_csv(base + 'train.csv')\n",
        "sample_submission = pd.read_csv(base + 'sample_submission.csv')\n",
        "print(f'train: {train.shape}, sample submission: {sample_submission.shape}')\n",
        "train.head(2)\n",
        "sample_submission.head(2)"
      ],
      "execution_count": null,
      "outputs": []
    },
    {
      "metadata": {
        "id": "KenwtbgaBPrs"
      },
      "cell_type": "markdown",
      "source": [
        "The annotations in train.csv have the following components:\n",
        "* **center_x**, **center_y** and **center_z** are the world coordinates of the center of the 3D bounding volume.\n",
        "* **width**, **length** and **height** are the dimensions of the volume.\n",
        "* **yaw** is the angle of the volume around the z axis (where y is forward/back, x is left/right, and z is up/down - making 'yaw' the direction the front of the vehicle / bounding box is pointing at while on the ground).\n",
        "* **class_name** is the type of object contained by the bounding volume.\n",
        "\n",
        "\n",
        "**We have 638K annotated objects in 22K train samples.**"
      ]
    },
    {
      "metadata": {
        "trusted": true,
        "id": "0AIcrwyMBPrs"
      },
      "cell_type": "code",
      "source": [
        "# Let's check the parsing of prediction strings. Each object should have 8 params\n",
        "max([len(ps.split(' ')) % 8 for ps in train.PredictionString.values])"
      ],
      "execution_count": null,
      "outputs": []
    },
    {
      "metadata": {
        "trusted": true,
        "id": "ZnGCtkHhBPrs"
      },
      "cell_type": "code",
      "source": [
        "object_columns = ['sample_id', 'object_id', 'center_x', 'center_y', 'center_z',\n",
        "                  'width', 'length', 'height', 'yaw', 'class_name']\n",
        "objects = []\n",
        "for sample_id, ps in tqdm(train.values[:]):\n",
        "    object_params = ps.split()\n",
        "    n_objects = len(object_params)\n",
        "    for i in range(n_objects // 8):\n",
        "        x, y, z, w, l, h, yaw, c = tuple(object_params[i * 8: (i + 1) * 8])\n",
        "        objects.append([sample_id, i, x, y, z, w, l, h, yaw, c])\n",
        "train_objects = pd.DataFrame(\n",
        "    objects,\n",
        "    columns = object_columns\n",
        ")"
      ],
      "execution_count": null,
      "outputs": []
    },
    {
      "metadata": {
        "trusted": true,
        "id": "-q4mHwlfBPrs"
      },
      "cell_type": "code",
      "source": [
        "for col in object_columns[2:-1]:\n",
        "    train_objects[col] = train_objects[col].astype('float')\n",
        "train_objects['confidence'] = 1.0"
      ],
      "execution_count": null,
      "outputs": []
    },
    {
      "metadata": {
        "trusted": true,
        "id": "lvA8DwOyBPrs"
      },
      "cell_type": "code",
      "source": [
        "train_objects.groupby('sample_id').count()[['object_id']].hist()\n",
        "plt.title('Number of objects per sample')\n",
        "plt.show();"
      ],
      "execution_count": null,
      "outputs": []
    },
    {
      "metadata": {
        "trusted": true,
        "id": "Uk8wyQG8BPrt"
      },
      "cell_type": "code",
      "source": [
        "train_objects.shape\n",
        "train_objects.head()\n",
        "train_objects.describe()"
      ],
      "execution_count": null,
      "outputs": []
    },
    {
      "metadata": {
        "id": "1byedz5WBPrt"
      },
      "cell_type": "markdown",
      "source": [
        "\n",
        "### Object annotations"
      ]
    },
    {
      "metadata": {
        "trusted": true,
        "id": "qsEI7Z2iBPrt"
      },
      "cell_type": "code",
      "source": [
        "fig, ax = plt.subplots(ncols=3)\n",
        "sns.distplot(train_objects.center_x, ax = ax[0])\n",
        "sns.distplot(train_objects.center_y, ax = ax[1])\n",
        "sns.distplot(train_objects.center_z, ax = ax[2])\n",
        "plt.suptitle('X, y, z coord distribution')\n",
        "plt.show();"
      ],
      "execution_count": null,
      "outputs": []
    },
    {
      "metadata": {
        "trusted": true,
        "id": "XXkQnP6BBPrt"
      },
      "cell_type": "code",
      "source": [
        "fig, ax = plt.subplots(ncols=3)\n",
        "sns.distplot(train_objects.width, ax = ax[0])\n",
        "sns.distplot(train_objects.length, ax = ax[1])\n",
        "sns.distplot(train_objects.height, ax = ax[2])\n",
        "plt.suptitle('Width, length, height distribution')\n",
        "plt.show();"
      ],
      "execution_count": null,
      "outputs": []
    },
    {
      "metadata": {
        "id": "uuTbKRoEBPrt"
      },
      "cell_type": "markdown",
      "source": [
        "### Classes\n",
        "\n",
        "Vast majority of the annotated objects is just car. We have other vehicles and pedestrians to detect."
      ]
    },
    {
      "metadata": {
        "trusted": true,
        "id": "1EBVnOOgBPrt"
      },
      "cell_type": "code",
      "source": [
        "class_cnt = train_objects.groupby('class_name').count()[['object_id']].sort_values(by='object_id', ascending=False).reset_index()\n",
        "class_cnt['p'] = class_cnt.object_id / class_cnt.object_id.sum()\n",
        "class_cnt"
      ],
      "execution_count": null,
      "outputs": []
    },
    {
      "metadata": {
        "trusted": true,
        "id": "XhnwXvFfBPrt"
      },
      "cell_type": "code",
      "source": [
        "train_objects.groupby('class_name').mean()"
      ],
      "execution_count": null,
      "outputs": []
    },
    {
      "metadata": {
        "id": "x3Pk9y-6BPrt"
      },
      "cell_type": "markdown",
      "source": [
        "# Sample submission"
      ]
    },
    {
      "metadata": {
        "trusted": true,
        "id": "3omI_rlOBPrt"
      },
      "cell_type": "code",
      "source": [
        "x, y, z, w, l, h, yaw = train_objects[[\n",
        "    'center_x', 'center_y', 'center_z', 'width', 'length', 'height', 'yaw']].mean()\n",
        "mean_prediction_string = ' '.join(map(str, [0.9, x, y, z, 10*w, 10*l, h, yaw, 'car']))\n"
      ],
      "execution_count": null,
      "outputs": []
    },
    {
      "metadata": {
        "trusted": true,
        "id": "alvxeaFhBPrt"
      },
      "cell_type": "code",
      "source": [
        "sample_submission['PredictionString'] = mean_prediction_string\n",
        "sample_submission.to_csv('submission.csv', index=False)"
      ],
      "execution_count": null,
      "outputs": []
    },
    {
      "metadata": {
        "trusted": true,
        "id": "RFZjBsSvBPrt"
      },
      "cell_type": "code",
      "source": [
        "sample_submission.shape\n",
        "sample_submission.head()"
      ],
      "execution_count": null,
      "outputs": []
    },
    {
      "metadata": {
        "id": "kL9ZRUBBBPrt"
      },
      "cell_type": "markdown",
      "source": [
        "## Train data"
      ]
    },
    {
      "metadata": {
        "trusted": true,
        "id": "t6c958uMBPru"
      },
      "cell_type": "code",
      "source": [
        "for f in os.listdir(base + 'train_data'):\n",
        "    print(f)\n",
        "    try:\n",
        "        df = pd.read_json(base + 'train_data/' + f)\n",
        "        df.shape\n",
        "        df.head()\n",
        "        df.nunique()\n",
        "    except Exception as e:\n",
        "        print(e)"
      ],
      "execution_count": null,
      "outputs": []
    },
    {
      "metadata": {
        "id": "kqwrkepQBPru"
      },
      "cell_type": "markdown",
      "source": [
        "# References\n",
        "[1] https://github.com/lyft/nuscenes-devkit"
      ]
    },
    {
      "metadata": {
        "trusted": true,
        "id": "REKlUJacBPru"
      },
      "cell_type": "code",
      "source": [
        "end = dt.datetime.now()\n",
        "print('Latest run {}.\\nTotal time {}s'.format(end, (end - start).seconds))"
      ],
      "execution_count": null,
      "outputs": []
    }
  ],
  "metadata": {
    "kernelspec": {
      "language": "python",
      "display_name": "Python 3",
      "name": "python3"
    },
    "language_info": {
      "pygments_lexer": "ipython3",
      "nbconvert_exporter": "python",
      "version": "3.6.4",
      "file_extension": ".py",
      "codemirror_mode": {
        "name": "ipython",
        "version": 3
      },
      "name": "python",
      "mimetype": "text/x-python"
    },
    "colab": {
      "name": "EDA - 3D Object Detection Challenge",
      "provenance": [],
      "include_colab_link": true
    }
  },
  "nbformat": 4,
  "nbformat_minor": 0
}